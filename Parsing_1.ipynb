{
  "nbformat": 4,
  "nbformat_minor": 0,
  "metadata": {
    "colab": {
      "name": "Parsing.ipynb",
      "provenance": [],
      "collapsed_sections": []
    },
    "kernelspec": {
      "name": "python3",
      "display_name": "Python 3"
    }
  },
  "cells": [
    {
      "cell_type": "code",
      "metadata": {
        "id": "li53H1xNQVKn"
      },
      "source": [
        "import requests\n",
        "from bs4 import BeautifulSoup"
      ],
      "execution_count": 1,
      "outputs": []
    },
    {
      "cell_type": "code",
      "metadata": {
        "id": "WHCr0tpghKzh"
      },
      "source": [
        "List=[]\n",
        "\n",
        "for i in range(1,21):\n",
        "    url_game=\"https://lets-play.by/list-games-pc/new/\"+str(i)\n",
        "    response=requests.get(url_game).text\n",
        "    soup=BeautifulSoup(response,\"lxml\")\n",
        "\n",
        "    game_title=soup.find_all(\"a\",class_=\"game-name\")\n",
        "    game_data=soup.find_all(\"span\",class_=\"content-data-relise\")\n",
        "    game_genre=soup.find_all(\"p\",class_=\"game-genre\")\n",
        "    game_image=soup.find_all(\"div\",class_=\"cover-image-list-game\")\n",
        "\n",
        "    for i in range(0,15):\n",
        "        d={}\n",
        "        d[\"title\"]=game_title[i].text\n",
        "        d[\"date\"]=game_data[i].text\n",
        "        d[\"genre\"]=game_genre[i].text[7:].replace(\"\\n\",\" \")\n",
        "        d[\"description\"]=\"\"\n",
        "        d[\"image\"]=game_image[i].img[\"src\"]\n",
        "        List.append(d)\n",
        "\n",
        "Topic=soup.find(\"h1\",class_=\"name-list-game\").text\n",
        "\n",
        "print(Topic)\n",
        "print(List)"
      ],
      "execution_count": null,
      "outputs": []
    },
    {
      "cell_type": "code",
      "metadata": {
        "id": "o1GdaQ5YVA9u"
      },
      "source": [
        "url=\"https://start.ru/series\"\n",
        "response=requests.get(url).text\n",
        "soup=BeautifulSoup(response,\"lxml\")\n",
        "\n",
        "List=[]\n",
        "\n",
        "serials_name=soup.find_all(\"span\",class_=\"VideoList_videoCatalog-title-alias__3_65h\")\n",
        "serials_genre=soup.find_all(\"div\",class_=\"VideoList_videoCatalog-title-genres__weqkJ\")\n",
        "serials_image=soup.find_all(\"div\",class_=\"VideoList_videoCatalog-item-image__1AMrH\")\n",
        "\n",
        "for n in range(0,16):\n",
        "    d={}\n",
        "    d[\"title\"]=serials_name[n].text\n",
        "    d[\"date\"]=\"\"\n",
        "    d[\"genre\"]=serials_genre[n].text.replace(\"\\n\",\" \")\n",
        "    d[\"description\"]=\"\"\n",
        "    d[\"image\"]=serials_image[n].img[\"src\"]\n",
        "    List.append(d)\n",
        "\n",
        "print(List)\n",
        "\n"
      ],
      "execution_count": null,
      "outputs": []
    }
  ]
}