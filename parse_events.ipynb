{
 "cells": [
  {
   "cell_type": "code",
   "execution_count": 287,
   "metadata": {},
   "outputs": [],
   "source": [
    "def correct_data(event):\n",
    "    import time\n",
    "    import datetime\n",
    "    cities={\"msk\":\"Москва\",\"spb\":\"Санкт-Петербург\",\"nsk\":\"Новосибирск\",\"ekb\":\"Екатеринбург\",\"nnv\":\"Нижний Новгород\",\"kzn\":\"Казань\",\"vbg\":\"Выборг\",\"smr\":\"Самара\",\"krd\":\"Краснадар\",\"sochi\":\"Сочи\",\"ufa\":\"Уфа\",\"krasnoyarsk\":\"Красноярск\",\"kev\":\"Киев\",\"new-york\":\"Нью-Йорк\",\"online\":\"Онлайн\"}\n",
    "    date_end = (event.setdefault(\"dates\"))[-1][\"start\"]\n",
    "    date_start = (event.setdefault(\"dates\"))[0][\"start\"]\n",
    "    if date_end <=0:\n",
    "        date_end = \"Нет точной даты\"\n",
    "    else:\n",
    "        date_end = (datetime.datetime.fromtimestamp(date_end)).strftime('%Y-%m-%d ')\n",
    "    if date_start <=0:\n",
    "        date_start = \"Нет точной даты\"\n",
    "    else:\n",
    "        date_start = (datetime.datetime.fromtimestamp(date_start)).strftime('%Y-%m-%d ')  \n",
    "    if date_end!=date_start :\n",
    "        if date_end == \"Нет точной даты\":\n",
    "            date = \"Актуально с \"+ date_start\n",
    "        elif date_start == \"Нет точной даты\":\n",
    "            date = \"Актуально до \" + date_end\n",
    "        else:\n",
    "            date = \"Актуально с \"+ date_start + \" до \" + date_end\n",
    "    else:\n",
    "        date = date_start\n",
    "    place = event.setdefault(\"place\")\n",
    "    if place != None:\n",
    "        place = place[\"address\"]\n",
    "    image = event[\"images\"][0].setdefault(\"image\")\n",
    "    location = event[\"location\"][\"slug\"]\n",
    "    \n",
    "    return {\"title\": event.setdefault(\"title\"), \"place\": place, \"description\": event.setdefault(\"description\"), \"image\": image, \"date\": date,\"city\": cities[location] }"
   ]
  },
  {
   "cell_type": "code",
   "execution_count": 288,
   "metadata": {},
   "outputs": [],
   "source": [
    "def kudaGo(loc):\n",
    "    import requests\n",
    "    import time\n",
    "    time1 = str(time.time())\n",
    "    events=[]\n",
    "    url = \"https://kudago.com/public-api/v1.4/events/?page_size=100&fields=title,description,place,location,dates,price,site_url,images&expand=place&order_by=&text_format=text&ids=&location=\"+loc+\"&actual_since=\"+time1\n",
    "    json_url=requests.get(url).json()\n",
    "    res = json_url[\"results\"]\n",
    "    for i in res:\n",
    "        events.append(correct_data(i))\n",
    "    return events"
   ]
  },
  {
   "cell_type": "code",
   "execution_count": 336,
   "metadata": {},
   "outputs": [],
   "source": [
    "def collect_events():\n",
    "    cities={\"msk\",\"spb\",\"nsk\",\"ekb\",\"nnv\",\"kzn\",\"vbg\",\"smr\",\"krd\",\"sochi\",\"ufa\",\"krasnoyarsk\",\"kev\",\"new-york\"}\n",
    "    events=[]\n",
    "    for city in cities:\n",
    "        events = events + kudaGo(city)\n",
    "    filtered_event = []\n",
    "    for event in events:\n",
    "        if event not in filtered_event:\n",
    "            filtered_event.append(event)\n",
    "    return filtered_event\n"
   ]
  }
 ],
 "metadata": {
  "kernelspec": {
   "display_name": "Python 3",
   "language": "python",
   "name": "python3"
  },
  "language_info": {
   "codemirror_mode": {
    "name": "ipython",
    "version": 3
   },
   "file_extension": ".py",
   "mimetype": "text/x-python",
   "name": "python",
   "nbconvert_exporter": "python",
   "pygments_lexer": "ipython3",
   "version": "3.8.3"
  }
 },
 "nbformat": 4,
 "nbformat_minor": 4
}
