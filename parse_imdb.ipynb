{
 "cells": [
  {
   "cell_type": "code",
   "execution_count": 88,
   "metadata": {},
   "outputs": [],
   "source": [
    "def IMDfilmInfo(url):\n",
    "    import json\n",
    "    import requests\n",
    "    from bs4 import BeautifulSoup\n",
    "    response = requests.get(url)\n",
    "    soup = BeautifulSoup(response.text, 'lxml')\n",
    "    inf = json.loads(\"\".join(soup.find(\"script\", {\"type\":\"application/ld+json\"}).contents))\n",
    "    return inf"
   ]
  },
  {
   "cell_type": "code",
   "execution_count": 89,
   "metadata": {},
   "outputs": [],
   "source": [
    "def IMDBcomingParse():\n",
    "    import requests\n",
    "    from bs4 import BeautifulSoup\n",
    "    import json\n",
    "    url = 'https://www.imdb.com/calendar/?ref_=nv_mv_cal'\n",
    "    response = requests.get(url)\n",
    "    data=[]\n",
    "    correct_data=[]\n",
    "    soup = BeautifulSoup(response.text, 'lxml')\n",
    "    for a in soup.find_all('a',href = True):\n",
    "        if a['href'][0:6] ==\"/title\":\n",
    "            data.append(IMDfilmInfo(\"https://www.imdb.com/\"+a['href']))\n",
    "    for film in data:\n",
    "        correct_data.append({\"title\": film.setdefault(\"name\"),\"image\": film.setdefault(\"image\"),\"genre\": film.setdefault(\"genre\") if type(film.setdefault(\"genre\"))!=list else \",\".join(film.setdefault(\"genre\")),\"description\": film.setdefault(\"description\"),\"data\": film.setdefault(\"datePublished\")})\n",
    "    return correct_data\n",
    "    "
   ]
  }
 ],
 "metadata": {
  "kernelspec": {
   "display_name": "Python 3",
   "language": "python",
   "name": "python3"
  },
  "language_info": {
   "codemirror_mode": {
    "name": "ipython",
    "version": 3
   },
   "file_extension": ".py",
   "mimetype": "text/x-python",
   "name": "python",
   "nbconvert_exporter": "python",
   "pygments_lexer": "ipython3",
   "version": "3.8.3"
  }
 },
 "nbformat": 4,
 "nbformat_minor": 4
}
